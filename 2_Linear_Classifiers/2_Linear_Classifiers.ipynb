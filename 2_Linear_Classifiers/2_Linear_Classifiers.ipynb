{
 "cells": [
  {
   "cell_type": "code",
   "execution_count": 1,
   "metadata": {},
   "outputs": [],
   "source": [
    "import numpy.random\n",
    "\n",
    "N = 10\n",
    "X1 = numpy.vstack((numpy.random.normal(1, .1, N), \n",
    "                  numpy.random.normal(2, .1, N)))\n",
    "X2 = numpy.vstack((numpy.random.normal(1.1, 0.1, N), \n",
    "                  numpy.random.normal(3, .1, N)))"
   ]
  },
  {
   "cell_type": "code",
   "execution_count": 2,
   "metadata": {},
   "outputs": [
    {
     "data": {
      "text/plain": [
       "[<matplotlib.lines.Line2D at 0x112278890>]"
      ]
     },
     "execution_count": 2,
     "metadata": {},
     "output_type": "execute_result"
    },
    {
     "data": {
      "image/png": "[encoded data removed]",
      "text/plain": [
       "<Figure size 432x288 with 1 Axes>"
      ]
     },
     "metadata": {
      "needs_background": "light"
     },
     "output_type": "display_data"
    }
   ],
   "source": [
    "import matplotlib.pyplot as plt\n",
    "\n",
    "plt.plot(X1[0], X1[1], '.r')\n",
    "plt.plot(X2[0], X2[1], '.b')"
   ]
  },
  {
   "cell_type": "code",
   "execution_count": 16,
   "metadata": {},
   "outputs": [
    {
     "name": "stdout",
     "output_type": "stream",
     "text": [
      "2\n",
      "[[1.02589703 3.02349691 1.        ]\n",
      " [1.0739009  4.79369982 1.        ]\n",
      " [0.97955684 2.38106873 1.        ]\n",
      " [1.13254498 3.86300711 1.        ]\n",
      " [1.16041002 2.59140442 1.        ]\n",
      " [1.10941304 4.012638   1.        ]\n",
      " [1.07680533 4.07192505 1.        ]\n",
      " [1.20352381 2.12495322 1.        ]\n",
      " [1.18675998 2.61989778 1.        ]\n",
      " [1.12840945 3.56324634 1.        ]]\n",
      "[[1.12571764 0.82719143 1.049628   1.10740184 1.16891172 0.91813044\n",
      "  1.02330353 0.92184063 1.06421999 1.11131068 1.02589703 1.0739009\n",
      "  0.97955684 1.13254498 1.16041002 1.10941304 1.07680533 1.20352381\n",
      "  1.18675998 1.12840945]\n",
      " [2.30994014 2.97809527 3.66325767 3.08458752 0.9932842  2.56841795\n",
      "  1.85393596 2.07639057 2.09206188 4.10940457 3.02349691 4.79369982\n",
      "  2.38106873 3.86300711 2.59140442 4.012638   4.07192505 2.12495322\n",
      "  2.61989778 3.56324634]\n",
      " [1.         1.         1.         1.         1.         1.\n",
      "  1.         1.         1.         1.         1.         1.\n",
      "  1.         1.         1.         1.         1.         1.\n",
      "  1.         1.        ]]\n",
      "[-1. -1. -1. -1. -1. -1. -1. -1. -1. -1.  1.  1.  1.  1.  1.  1.  1.  1.\n",
      "  1.  1.]\n"
     ]
    }
   ],
   "source": [
    "# Each sample is 2-D\n",
    "X = numpy.hstack((X1, X2)) \n",
    "print (len(X))\n",
    "# now each row is a feature, each column is a sample\n",
    "X = numpy.vstack((X, numpy.ones(2*N))) # augment\n",
    "y = numpy.hstack((numpy.ones(N)*-1, 1*numpy.ones(N)))\n",
    "filter = y == 1\n",
    "print(numpy.transpose(X)[filter])\n",
    "print (X)\n",
    "print (numpy.transpose(y))"
   ]
  },
  {
   "cell_type": "code",
   "execution_count": 8,
   "metadata": {},
   "outputs": [
    {
     "data": {
      "text/plain": [
       "array([[ 23.06833036,  62.93644907,  21.39487728],\n",
       "       [ 62.93644907, 189.92143433,  58.77471313],\n",
       "       [ 21.39487728,  58.77471313,  20.        ]])"
      ]
     },
     "execution_count": 8,
     "metadata": {},
     "output_type": "execute_result"
    }
   ],
   "source": [
    "compound = numpy.matmul(X, numpy.transpose(X))\n",
    "compound"
   ]
  },
  {
   "cell_type": "code",
   "execution_count": 9,
   "metadata": {},
   "outputs": [],
   "source": [
    "import numpy.linalg"
   ]
  },
  {
   "cell_type": "code",
   "execution_count": 10,
   "metadata": {},
   "outputs": [
    {
     "data": {
      "text/plain": [
       "array([ 4.04802923,  0.41066862, -5.53720095])"
      ]
     },
     "execution_count": 10,
     "metadata": {},
     "output_type": "execute_result"
    }
   ],
   "source": [
    "all_but_y = numpy.matmul(numpy.linalg.inv(compound), X)\n",
    "W = numpy.matmul(all_but_y, y)\n",
    "W\n",
    "#print(all_but_y.shape,y.size)"
   ]
  },
  {
   "cell_type": "code",
   "execution_count": 11,
   "metadata": {},
   "outputs": [
    {
     "data": {
      "text/plain": [
       "array([-0.03164313, -0.9656956 ,  0.21610884,  0.21233737, -0.39750149,\n",
       "       -0.76581343, -0.63348501, -0.95285469, -0.37006316,  0.64902068,\n",
       "       -0.14268447,  0.77860336, -0.594096  ,  0.63379005,  0.22438119,\n",
       "        0.6016    ,  0.49395033,  0.20735022,  0.34274796,  0.49394696])"
      ]
     },
     "execution_count": 11,
     "metadata": {},
     "output_type": "execute_result"
    }
   ],
   "source": [
    "numpy.matmul(W,X)"
   ]
  },
  {
   "cell_type": "code",
   "execution_count": 12,
   "metadata": {},
   "outputs": [
    {
     "name": "stdout",
     "output_type": "stream",
     "text": [
      "[0, 1.367875734642881] [13.483379650570878, 0]\n"
     ]
    }
   ],
   "source": [
    "a,b,c=W[0], W[1], W[2]\n",
    "h = [0, -1*c/a]\n",
    "vd = [-1*c/b, 0]\n",
    "print (h, vd)"
   ]
  },
  {
   "cell_type": "code",
   "execution_count": 13,
   "metadata": {},
   "outputs": [
    {
     "data": {
      "text/plain": [
       "[<matplotlib.lines.Line2D at 0x1205d3990>]"
      ]
     },
     "execution_count": 13,
     "metadata": {},
     "output_type": "execute_result"
    },
    {
     "data": {
      "image/png": "[encoded data removed]",
      "text/plain": [
       "<Figure size 432x288 with 1 Axes>"
      ]
     },
     "metadata": {
      "needs_background": "light"
     },
     "output_type": "display_data"
    }
   ],
   "source": [
    "plt.plot(h, vd)\n",
    "plt.plot(X1[0], X1[1], '.r')\n",
    "plt.plot(X2[0], X2[1], '.b')"
   ]
  },
  {
   "cell_type": "code",
   "execution_count": null,
   "metadata": {},
   "outputs": [],
   "source": []
  },
  {
   "cell_type": "code",
   "execution_count": null,
   "metadata": {},
   "outputs": [],
   "source": []
  }
 ],
 "metadata": {
  "kernelspec": {
   "display_name": "Python 3",
   "language": "python",
   "name": "python3"
  },
  "language_info": {
   "codemirror_mode": {
    "name": "ipython",
    "version": 3
   },
   "file_extension": ".py",
   "mimetype": "text/x-python",
   "name": "python",
   "nbconvert_exporter": "python",
   "pygments_lexer": "ipython3",
   "version": "3.7.6"
  }
 },
 "nbformat": 4,
 "nbformat_minor": 2
}
